{
 "cells": [
  {
   "cell_type": "code",
   "execution_count": 8,
   "metadata": {},
   "outputs": [
    {
     "ename": "TypeError",
     "evalue": "unhashable type: 'list'",
     "output_type": "error",
     "traceback": [
      "\u001b[1;31m---------------------------------------------------------------------------\u001b[0m",
      "\u001b[1;31mTypeError\u001b[0m                                 Traceback (most recent call last)",
      "\u001b[1;32m<ipython-input-8-0cce9df41942>\u001b[0m in \u001b[0;36m<module>\u001b[1;34m()\u001b[0m\n\u001b[0;32m     50\u001b[0m \u001b[1;33m\u001b[0m\u001b[0m\n\u001b[0;32m     51\u001b[0m \u001b[0mG\u001b[0m \u001b[1;33m=\u001b[0m \u001b[0mnx\u001b[0m\u001b[1;33m.\u001b[0m\u001b[0mbarbell_graph\u001b[0m\u001b[1;33m(\u001b[0m\u001b[1;36m5\u001b[0m\u001b[1;33m,\u001b[0m\u001b[1;36m0\u001b[0m\u001b[1;33m)\u001b[0m\u001b[1;33m\u001b[0m\u001b[0m\n\u001b[1;32m---> 52\u001b[1;33m \u001b[0mcommunities_brute\u001b[0m\u001b[1;33m(\u001b[0m\u001b[0mG\u001b[0m\u001b[1;33m)\u001b[0m\u001b[1;33m\u001b[0m\u001b[0m\n\u001b[0m",
      "\u001b[1;32m<ipython-input-8-0cce9df41942>\u001b[0m in \u001b[0;36mcommunities_brute\u001b[1;34m(G)\u001b[0m\n\u001b[0;32m     14\u001b[0m \u001b[1;33m\u001b[0m\u001b[0m\n\u001b[0;32m     15\u001b[0m         \u001b[1;32mfor\u001b[0m \u001b[0mi\u001b[0m \u001b[1;32min\u001b[0m \u001b[0mrange\u001b[0m\u001b[1;33m(\u001b[0m\u001b[0mlen\u001b[0m\u001b[1;33m(\u001b[0m\u001b[0mfirst_community\u001b[0m\u001b[1;33m)\u001b[0m\u001b[1;33m)\u001b[0m\u001b[1;33m:\u001b[0m\u001b[1;33m\u001b[0m\u001b[0m\n\u001b[1;32m---> 16\u001b[1;33m                 \u001b[0ml\u001b[0m\u001b[1;33m=\u001b[0m\u001b[0mset\u001b[0m\u001b[1;33m(\u001b[0m\u001b[0mnodes\u001b[0m\u001b[1;33m)\u001b[0m\u001b[1;33m-\u001b[0m \u001b[0mset\u001b[0m\u001b[1;33m(\u001b[0m\u001b[0mfirst_community\u001b[0m\u001b[1;33m)\u001b[0m\u001b[1;33m\u001b[0m\u001b[0m\n\u001b[0m\u001b[0;32m     17\u001b[0m                 \u001b[0mli\u001b[0m\u001b[1;33m=\u001b[0m\u001b[0mlist\u001b[0m\u001b[1;33m(\u001b[0m\u001b[0ml\u001b[0m\u001b[1;33m)\u001b[0m\u001b[1;33m\u001b[0m\u001b[0m\n\u001b[0;32m     18\u001b[0m                 \u001b[0msecond_community\u001b[0m\u001b[1;33m.\u001b[0m\u001b[0mappend\u001b[0m\u001b[1;33m(\u001b[0m\u001b[0ml\u001b[0m\u001b[1;33m)\u001b[0m\u001b[1;33m\u001b[0m\u001b[0m\n",
      "\u001b[1;31mTypeError\u001b[0m: unhashable type: 'list'"
     ]
    }
   ],
   "source": [
    "import networkx as nx\n",
    "import itertools\n",
    "\n",
    "def communities_brute(G):\n",
    "\tnodes = G.nodes()\n",
    "\tn= G.number_of_nodes()\n",
    "\n",
    "\tfirst_community= []\n",
    "\tfor i in range (1, (int)(n/2)+1):\n",
    "\t\tcomb = [list(x) for x in itertools.combinations(nodes,i)]\n",
    "\t\tfirst_community.extend(comb)\n",
    "\t\t\n",
    "\tsecond_community = []\n",
    "\n",
    "\tfor i in range(len(first_community)):        \n",
    "\t\tl=set(nodes)- set(first_community)\n",
    "\t\tli=list(l)\n",
    "\t\tsecond_community.append(l)\n",
    "\n",
    "\n",
    "\t#which division is the best?\n",
    "\tnum_intra_edges1=[]\n",
    "\tnum_intra_edges2=[]\n",
    "\tnum_inter_edges= []\n",
    "\tratio=[]        # ratio of intra to inter community edgs\n",
    "\n",
    "\tfor i in range(len(first_community)):\n",
    "\t\tnum_intra_edges1.append(G.subgraph(first_community[i]).number_of_edges())\n",
    "\t\t# subgraphreturns() a graph obj, which is an induced subgraoh over the list of elements passsed as the parameter\n",
    "\t\t# hence we can apply graph funcs on it\n",
    "\n",
    "\tfor i in range(len(second_community)):\n",
    "\t\tnum_intra_edges1.append(G.subgraph(second_community[i]).number_of_edges())\n",
    "\n",
    "\te= G.number_of_edges()\n",
    "\t\n",
    "\tfor i in range(len(first_community)):\n",
    "\t\tnum_inter_edges.append(e - num_intra_edges1[i] - num_intra_edges2[i])\n",
    "\t  \n",
    "# finding the ratio\n",
    "\tfor i in range(len(first_community)):\n",
    "\t\tratio.append((float)(num_intra_edges1[i] + num_intra_edges2[i]) / num_inter_edges)\n",
    "\n",
    "\tmax_value = max(ratio)\n",
    "\tmax_index= ratio.index(max_value)   \n",
    "\n",
    "\tprint('(',first_community[max_index], '), (', second_community[max_index],')' )\n",
    "\n",
    "\n",
    "\n",
    "G = nx.barbell_graph(5,0)\n",
    "communities_brute(G)\t\n"
   ]
  },
  {
   "cell_type": "code",
   "execution_count": 3,
   "metadata": {},
   "outputs": [
    {
     "name": "stdout",
     "output_type": "stream",
     "text": [
      "Hi\n"
     ]
    }
   ],
   "source": [
    "print(\"Hi\")\n"
   ]
  },
  {
   "cell_type": "code",
   "execution_count": null,
   "metadata": {
    "collapsed": true
   },
   "outputs": [],
   "source": []
  }
 ],
 "metadata": {
  "kernelspec": {
   "display_name": "Python 3",
   "language": "python",
   "name": "python3"
  },
  "language_info": {
   "codemirror_mode": {
    "name": "ipython",
    "version": 3
   },
   "file_extension": ".py",
   "mimetype": "text/x-python",
   "name": "python",
   "nbconvert_exporter": "python",
   "pygments_lexer": "ipython3",
   "version": "3.6.1"
  }
 },
 "nbformat": 4,
 "nbformat_minor": 2
}
